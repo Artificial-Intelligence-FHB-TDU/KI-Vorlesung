{
  "nbformat": 4,
  "nbformat_minor": 0,
  "metadata": {
    "coursera": {
      "course_slug": "neural-networks-deep-learning",
      "graded_item_id": "XaIWT",
      "launcher_item_id": "zAgPl"
    },
    "kernelspec": {
      "display_name": "Python 3",
      "language": "python",
      "name": "python3"
    },
    "language_info": {
      "codemirror_mode": {
        "name": "ipython",
        "version": 3
      },
      "file_extension": ".py",
      "mimetype": "text/x-python",
      "name": "python",
      "nbconvert_exporter": "python",
      "pygments_lexer": "ipython3",
      "version": "3.6.0"
    },
    "colab": {
      "provenance": [],
      "collapsed_sections": [],
      "toc_visible": true
    }
  },
  "cells": [
    {
      "cell_type": "markdown",
      "metadata": {
        "id": "lKZ4-E_ycsFE"
      },
      "source": [
        "# Perzeptron Lernalgorithmus (starter code)"
      ]
    },
    {
      "cell_type": "markdown",
      "metadata": {
        "id": "5w6Y_5fmf2eM"
      },
      "source": [
        "##**1 - Imports**##"
      ]
    },
    {
      "cell_type": "code",
      "metadata": {
        "id": "EuYKExRXcsFK"
      },
      "source": [
        "import numpy as np\n",
        "import matplotlib.pyplot as plt\n",
        "import matplotlib.lines as mlines\n",
        "import sklearn.datasets\n",
        "import h5py\n",
        "import scipy\n",
        "from scipy import ndimage\n",
        "from scipy.special import expit\n",
        "from PIL import Image\n",
        "\n",
        "%matplotlib inline\n"
      ],
      "execution_count": null,
      "outputs": []
    },
    {
      "cell_type": "markdown",
      "metadata": {
        "id": "JKSLABRTcsFW"
      },
      "source": [
        "## **2 - Dataset**"
      ]
    },
    {
      "cell_type": "code",
      "source": [
        "# Generate the data points. \n",
        "# return X: array containing one data point per column : shape (2,m) \n",
        "\n",
        "def generate_points(m=100, seed=42):\n",
        "\n",
        "  # --> replace with your code\n",
        "  # --> You might use the numpy function \"randint\".\n",
        "\n",
        "  return X\n",
        "\n"
      ],
      "metadata": {
        "id": "gIGc0VeAVUyG"
      },
      "execution_count": null,
      "outputs": []
    },
    {
      "cell_type": "code",
      "source": [
        "# Generate random decision boundary\n",
        "# return w: weight vector representing decision boundary, of shape (3,1)\n",
        "def random_boundary(seed=42):\n",
        "  rng = np.random.RandomState(seed)\n",
        "\n",
        "  # generate two random points A and B\n",
        "  # --> replace with your code\n",
        "\n",
        "  # calculate vector w\n",
        "  # --> replace with your code\n",
        "  \n",
        "  w = np.reshape(w, (3,1))\n",
        "  return w"
      ],
      "metadata": {
        "id": "muEdUXXsey6Z"
      },
      "execution_count": null,
      "outputs": []
    },
    {
      "cell_type": "code",
      "source": [
        "# Define function that calculates predictions\n",
        "# input w : weight vector chracterising perceptron model : of shape (3,1)\n",
        "# input X_ext : data matrix X, extended by a row of ones : of shape (3,m)\n",
        "# return predictions : sign(w.transpose * x) : of shape (1,m)\n",
        "\n",
        "\n",
        "def predict(w, X_ext):\n",
        "  \n",
        "  # --> replace with your code\n",
        "  # --> you might want to use np.matmul()\n",
        "\n",
        "  predictions = np.reshape(predictions, (1, X.shape[1]))\n",
        "  return predictions"
      ],
      "metadata": {
        "id": "C6t6af7AomC6"
      },
      "execution_count": 1,
      "outputs": []
    },
    {
      "cell_type": "code",
      "source": [
        "m = 100\n",
        "\n",
        "# Generate m random data points. X has shape (2,m)\n",
        "X = generate_points(m)\n",
        "# add a row of ones. X_ext has shape (3,m)\n",
        "X_ext = np.vstack((np.ones((1,X.shape[1])), X))\n",
        "\n",
        "# Generate random boundary. w has shape (3,1)\n",
        "w = random_boundary()\n",
        "\n",
        "# Generate labels. Y has shape (1,m)\n",
        "Y = predict(w, X_ext)"
      ],
      "metadata": {
        "id": "Rgb_k56MtMvJ"
      },
      "execution_count": null,
      "outputs": []
    },
    {
      "cell_type": "code",
      "metadata": {
        "id": "7-qRefdZGmGX"
      },
      "source": [
        "# Visualize the data and the decision boundary\n",
        "fig, ax = plt.subplots()\n",
        "ax.scatter(X[0, :], X[1, :], marker='o', c=Y, s=25, edgecolor='k')\n",
        "\n",
        "# the decision boundary chracterized by vector w\n",
        "xp = np.array((-1,1))\n",
        "yp = -(w[1]/w[2]) * xp - (w[0]/w[2])\n",
        "\n",
        "plt.axis([-1.1, 1.1, -1.1, 1.1])\n",
        "plt.plot(xp, yp, \"r-\") # decision boundary\n",
        "plt.show()"
      ],
      "execution_count": null,
      "outputs": []
    },
    {
      "cell_type": "code",
      "metadata": {
        "id": "YHEAXZoGcsFg"
      },
      "source": [
        "# Example of a point\n",
        "index = 3\n",
        "print(\"Point #\" + str(index) + \" is \" + str(X[:,index]))\n",
        "print(\"Class #\" + str(index) + \" is \" + str(Y[0,index]))"
      ],
      "execution_count": null,
      "outputs": []
    },
    {
      "cell_type": "markdown",
      "source": [
        "## **3 - Training**"
      ],
      "metadata": {
        "id": "wGs9dmJvvfdK"
      }
    },
    {
      "cell_type": "code",
      "source": [
        "# Define function for weight update\n",
        "\n",
        "# input w : current weight vector with shape (3,1)\n",
        "# input x : misclassified data point (should have shape (3,1))\n",
        "# input y : label of data point x (scalar)\n",
        "\n",
        "# return new_w : updated weight vector\n",
        "def weight_update(w, x, y, learning_rate):\n",
        "  \n",
        "  # --> replace with your code\n",
        "\n",
        "  new_w = np.reshape(new_w, (3,1))\n",
        "  return new_w"
      ],
      "metadata": {
        "id": "pdppmT0Az7Nd"
      },
      "execution_count": null,
      "outputs": []
    },
    {
      "cell_type": "code",
      "metadata": {
        "id": "6TyWrI5ip_9Y"
      },
      "source": [
        "# Initialize weight vector w_ with 0. \n",
        "# --> replace with your code  \n",
        "\n",
        "w_ = np.reshape(w_, (3,1))\n",
        "learning_rate = 0.1\n",
        "num_iterations = 10\n",
        "\n",
        "# initialize array to save number of misclassified points in each iteration\n",
        "num_misses = np.zeros(num_iterations)\n",
        "\n",
        "for i in range(num_iterations):\n",
        "  # calculate predictions for all points\n",
        "  # --> replace with your code \n",
        "\n",
        "  # identify indices of misclassified points\n",
        "  # --> replace with your code \n",
        "\n",
        "  # calculate and save number of misclassified points\n",
        "  # break if there are none\n",
        "  # --> replace with your code \n",
        "\n",
        "  # select random misclassified index\n",
        "  # --> replace with your code \n",
        "\n",
        "  # perform one weight update using datapoint at selected index\n",
        "  # --> replace with your code "
      ],
      "execution_count": null,
      "outputs": []
    }
  ]
}